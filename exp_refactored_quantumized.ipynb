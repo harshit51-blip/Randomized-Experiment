{
 "cells": [
  {
   "cell_type": "code",
   "execution_count": 2,
   "metadata": {},
   "outputs": [],
   "source": [
    "from qiskit import *\n",
    "import math\n",
    "import random\n",
    "import statistics\n",
    "import numpy as np"
   ]
  },
  {
   "cell_type": "code",
   "execution_count": 3,
   "metadata": {},
   "outputs": [],
   "source": [
    "# function to print out a refined output\n",
    "def lst_refine(a: list) -> str:\n",
    "    new_str = \"\"\n",
    "    for i in a:\n",
    "        new_str += f\"{i} \"\n",
    "    return f\"{new_str}\\n\""
   ]
  },
  {
   "cell_type": "code",
   "execution_count": 4,
   "metadata": {},
   "outputs": [],
   "source": [
    "# function to define a central tendency to plot\n",
    "def central_tendency(l):\n",
    "    arith_mean = statistics.mean(l)\n",
    "    \n",
    "    return round(arith_mean,4)"
   ]
  },
  {
   "cell_type": "code",
   "execution_count": 5,
   "metadata": {},
   "outputs": [],
   "source": [
    "# quantum circuit for probability \n",
    "sim = Aer.get_backend('qasm_simulator')\n",
    "\n",
    "def QC(n): #initializes an n-qubit circuit giving equal probability to each of the 2^n states (using Hadamard Gate)\n",
    "    qr = QuantumRegister(n)\n",
    "    cr = ClassicalRegister(n)\n",
    "    circ = QuantumCircuit(qr,cr)\n",
    "    circ.h(qr)\n",
    "    circ.measure(qr,cr)\n",
    "    result = execute(circ,sim).result().get_counts(circ)\n",
    "    return result \n",
    "\n",
    "def comb_dec(class_no): #uses the list to make the circuit and decide on a random value using Quantum Property of Superposition\n",
    "    num_choice = len(class_no)\n",
    "    if math.log(num_choice,2)%int(math.log(num_choice,2))==0:\n",
    "        n = int(math.log(num_choice,2))\n",
    "        result = QC(n)\n",
    "        max_res = max(result, key=result.get)\n",
    "    else:\n",
    "        n = int(math.log(num_choice,2))+1\n",
    "        result = QC(n)\n",
    "        max_res = max(result, key=result.get)\n",
    "    while (int(max_res,2) > num_choice-1):\n",
    "        result.pop(str(max_res))\n",
    "        max_res = max(result, key=result.get)\n",
    "    return class_no[int(max_res,2)-1]"
   ]
  },
  {
   "cell_type": "code",
   "execution_count": 6,
   "metadata": {},
   "outputs": [],
   "source": [
    "# Main function\n",
    "def main():\n",
    "    # Initialization\n",
    "    c = 1\n",
    "    counter = 1\n",
    "    num_list = []\n",
    "    precision = 4\n",
    "    ifactor = 0\n",
    "\n",
    "    iterations = int(input(\"Enter number of iterations:  \"))\n",
    "    elements = int(input(\"Enter number of elements:  \"))\n",
    "    starting_val = float(input(\"Enter starting value:  \"))\n",
    "\n",
    "    for idx, _ in enumerate(range(elements)):\n",
    "        some_val = math.sin(starting_val + idx)\n",
    "        num_list.append(round(some_val, precision))\n",
    "   \n",
    "    print(\"iteration: \", counter)\n",
    "    print(\"central tendency: \",central_tendency(num_list))\n",
    "    print(lst_refine(num_list))\n",
    "    \n",
    "    while counter < iterations:\n",
    "        \n",
    "        some_list = [1,2,3,4,5,6,7,8,9,10]\n",
    "        random_list_1 = list(range(1,101))\n",
    "        random_list_2 = list(range(-50,51))\n",
    "        randomized_result_1 = comb_dec(random_list_1)\n",
    "        if randomized_result_1 in some_list:\n",
    "            ifactor += comb_dec(random_list_2)\n",
    "            print(\"ifactor: \",ifactor)\n",
    "        \n",
    "        for idx, i in enumerate(range(len(num_list))):\n",
    "            num_list[i] = round(math.sin(starting_val + idx + c), precision)\n",
    "\n",
    "        if i > 0:\n",
    "            num_list = [_ + round(ifactor/elements, precision) for _ in num_list]\n",
    "        elif i < 0:\n",
    "            num_list = [_ + round(abs(ifactor/elements), precision) for _ in num_list]\n",
    "        \n",
    "        c += 1\n",
    "        counter += 1\n",
    "        print(\"iteration: \", counter)\n",
    "        print(\"central tendency: \",central_tendency(num_list))\n",
    "        print(lst_refine(num_list))\n",
    "            "
   ]
  },
  {
   "cell_type": "code",
   "execution_count": null,
   "metadata": {},
   "outputs": [],
   "source": [
    "main()"
   ]
  },
  {
   "cell_type": "code",
   "execution_count": null,
   "metadata": {},
   "outputs": [],
   "source": []
  }
 ],
 "metadata": {
  "kernelspec": {
   "display_name": "Python 3",
   "language": "python",
   "name": "python3"
  },
  "language_info": {
   "codemirror_mode": {
    "name": "ipython",
    "version": 3
   },
   "file_extension": ".py",
   "mimetype": "text/x-python",
   "name": "python",
   "nbconvert_exporter": "python",
   "pygments_lexer": "ipython3",
   "version": "3.7.6"
  }
 },
 "nbformat": 4,
 "nbformat_minor": 4
}
